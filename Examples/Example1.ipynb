{
 "cells": [
  {
   "cell_type": "markdown",
   "metadata": {},
   "source": [
    "# Simple example on use of PYOMO for a LP problem."
   ]
  },
  {
   "cell_type": "markdown",
   "metadata": {},
   "source": [
    "The company Paint Deals produces two colors of paint, blue and black.\n",
    "- Blue paint is sold for US\\\\$10 per liter, while black paint is sold for US\\\\$15\n",
    "per liter.\n",
    "- The company owns a process plant which can produce one color paint at\n",
    "a time.\n",
    "- However, blue paint is produced at a rate of 40 liters per hour, while the\n",
    "production rate for black paint is 30 liters per hour.\n",
    "- Besides, the marketing department estimates that at most 860 liters of\n",
    "black paint and 1000 liters of blue paint can be sold in the market.\n",
    "- During a week, the plant can operate for 40 hours and the paint can be\n",
    "stored for the following week.\n",
    "- Determine how many liters of each paint should be produced to maximize\n",
    "week revenue."
   ]
  },
  {
   "cell_type": "markdown",
   "metadata": {},
   "source": [
    "This problem can be written as a linear program:\n",
    "\\begin{align}\n",
    "\\max \\quad & 10 \\cdot \\text{BluePaint} + 15 \\cdot \\text{BlackPaint} \\\\\n",
    " \\text{subject to} \\quad & \\frac{1}{40} \\cdot \\text{BluePaint} + \\frac{1}{30} \\cdot \\text{BlackPaint} \\leq 40 \\\\\n",
    " & 0 \\leq \\text{BluePaint} \\leq 860 \\\\\n",
    " & 0 \\leq \\text{BlackPaint} \\leq 1000 \n",
    "\\end{align}"
   ]
  },
  {
   "cell_type": "markdown",
   "metadata": {},
   "source": [
    "We start by setting up PYOMO to solve a 'Concrete' model:"
   ]
  },
  {
   "cell_type": "code",
   "execution_count": 24,
   "metadata": {},
   "outputs": [],
   "source": [
    "from pyomo.environ import *\n",
    "from pyomo.opt import SolverFactory\n",
    "\n",
    "# create model\n",
    "m = ConcreteModel()"
   ]
  },
  {
   "cell_type": "markdown",
   "metadata": {},
   "source": [
    "Then we define our variables:"
   ]
  },
  {
   "cell_type": "code",
   "execution_count": 25,
   "metadata": {},
   "outputs": [],
   "source": [
    "m.BluePaint = Var(domain=NonNegativeReals)\n",
    "m.BlackPaint = Var(domain=NonNegativeReals)"
   ]
  },
  {
   "cell_type": "markdown",
   "metadata": {},
   "source": [
    "Note that by specifying the domain as NonNegativeReals, we have already implemented the lower bound on the variables."
   ]
  },
  {
   "cell_type": "markdown",
   "metadata": {},
   "source": [
    "Next, we specify the objective function. Note that Pyomo by default assumes minimization problems, therefore we must specify that this is a maximization problem."
   ]
  },
  {
   "cell_type": "code",
   "execution_count": 26,
   "metadata": {},
   "outputs": [],
   "source": [
    "m.obj = Objective( expr = 10*m.BluePaint + 15*m.BlackPaint, sense=maximize)"
   ]
  },
  {
   "cell_type": "markdown",
   "metadata": {},
   "source": [
    "Then, we specify the constraints:"
   ]
  },
  {
   "cell_type": "code",
   "execution_count": 27,
   "metadata": {},
   "outputs": [],
   "source": [
    "m.Constraint1 = Constraint(expr = (1/40)*m.BluePaint + (1/30)*m.BlackPaint <= 40)\n",
    "m.Constraint2 = Constraint(expr = m.BluePaint <= 860)\n",
    "m.Constraint3 = Constraint(expr = m.BlackPaint <= 1000)"
   ]
  },
  {
   "cell_type": "markdown",
   "metadata": {},
   "source": [
    "Now, we are ready to solve. We will use the open source solver GLPK:"
   ]
  },
  {
   "cell_type": "code",
   "execution_count": 28,
   "metadata": {},
   "outputs": [],
   "source": [
    "opt = SolverFactory('glpk')\n",
    "results = opt.solve(m)"
   ]
  },
  {
   "cell_type": "markdown",
   "metadata": {},
   "source": [
    "Let us have a look at the solver output:"
   ]
  },
  {
   "cell_type": "code",
   "execution_count": 29,
   "metadata": {},
   "outputs": [
    {
     "name": "stdout",
     "output_type": "stream",
     "text": [
      "# ==========================================================\n",
      "# = Solver Results                                         =\n",
      "# ==========================================================\n",
      "# ----------------------------------------------------------\n",
      "#   Problem Information\n",
      "# ----------------------------------------------------------\n",
      "Problem: \n",
      "- Name: unknown\n",
      "  Lower bound: 17666.6666666667\n",
      "  Upper bound: 17666.6666666667\n",
      "  Number of objectives: 1\n",
      "  Number of constraints: 4\n",
      "  Number of variables: 3\n",
      "  Number of nonzeros: 5\n",
      "  Sense: maximize\n",
      "# ----------------------------------------------------------\n",
      "#   Solver Information\n",
      "# ----------------------------------------------------------\n",
      "Solver: \n",
      "- Status: ok\n",
      "  Termination condition: optimal\n",
      "  Statistics: \n",
      "    Branch and bound: \n",
      "      Number of bounded subproblems: 0\n",
      "      Number of created subproblems: 0\n",
      "  Error rc: 0\n",
      "  Time: 0.017953157424926758\n",
      "# ----------------------------------------------------------\n",
      "#   Solution Information\n",
      "# ----------------------------------------------------------\n",
      "Solution: \n",
      "- number of solutions: 0\n",
      "  number of solutions displayed: 0\n"
     ]
    }
   ],
   "source": [
    "results.write()"
   ]
  },
  {
   "cell_type": "markdown",
   "metadata": {},
   "source": [
    "For some reason, it reports an extra variable."
   ]
  },
  {
   "cell_type": "markdown",
   "metadata": {},
   "source": [
    "When Pyomo solves, it copies the solution into the problem instant. Therefore, the solution can be inspected by looking at the values of the variables in the model."
   ]
  },
  {
   "cell_type": "code",
   "execution_count": 30,
   "metadata": {},
   "outputs": [
    {
     "name": "stdout",
     "output_type": "stream",
     "text": [
      "BluePaint : Size=1, Index=None\n",
      "    Key  : Lower : Value            : Upper : Fixed : Stale : Domain\n",
      "    None :     0 : 266.666666666667 :  None : False : False : NonNegativeReals\n",
      "BlackPaint : Size=1, Index=None\n",
      "    Key  : Lower : Value  : Upper : Fixed : Stale : Domain\n",
      "    None :     0 : 1000.0 :  None : False : False : NonNegativeReals\n"
     ]
    }
   ],
   "source": [
    "m.BluePaint.display()\n",
    "m.BlackPaint.display()"
   ]
  },
  {
   "cell_type": "markdown",
   "metadata": {},
   "source": [
    "More commonly, we use vectors when we specify and solve optimization problems. The code for the above problem using vectors are given below:"
   ]
  },
  {
   "cell_type": "code",
   "execution_count": 34,
   "metadata": {},
   "outputs": [],
   "source": [
    "# Create a new model\n",
    "m2 = ConcreteModel()\n",
    "# Create a vector of two (nonnegative) variables\n",
    "m2.x = Var([1,2], domain=NonNegativeReals)\n",
    "# Objective function\n",
    "m2.obj = Objective(expr = -10*m2.x[1] - 15*m2.x[2])\n",
    "# Constraints, here using ConstraintList\n",
    "m2.Constraints = ConstraintList()\n",
    "m2.Constraints.add(expr = (1/40)*m2.x[1] + (1/30)*m2.x[2] <= 40)\n",
    "m2.Constraints.add(expr = m2.x[1] <= 860)\n",
    "m2.Constraints.add(expr = m2.x[2] <= 1000)\n",
    "\n",
    "results = opt.solve(m2)"
   ]
  },
  {
   "cell_type": "code",
   "execution_count": 35,
   "metadata": {},
   "outputs": [
    {
     "name": "stdout",
     "output_type": "stream",
     "text": [
      "# ==========================================================\n",
      "# = Solver Results                                         =\n",
      "# ==========================================================\n",
      "# ----------------------------------------------------------\n",
      "#   Problem Information\n",
      "# ----------------------------------------------------------\n",
      "Problem: \n",
      "- Name: unknown\n",
      "  Lower bound: -17666.6666666667\n",
      "  Upper bound: -17666.6666666667\n",
      "  Number of objectives: 1\n",
      "  Number of constraints: 4\n",
      "  Number of variables: 3\n",
      "  Number of nonzeros: 5\n",
      "  Sense: minimize\n",
      "# ----------------------------------------------------------\n",
      "#   Solver Information\n",
      "# ----------------------------------------------------------\n",
      "Solver: \n",
      "- Status: ok\n",
      "  Termination condition: optimal\n",
      "  Statistics: \n",
      "    Branch and bound: \n",
      "      Number of bounded subproblems: 0\n",
      "      Number of created subproblems: 0\n",
      "  Error rc: 0\n",
      "  Time: 0.01595759391784668\n",
      "# ----------------------------------------------------------\n",
      "#   Solution Information\n",
      "# ----------------------------------------------------------\n",
      "Solution: \n",
      "- number of solutions: 0\n",
      "  number of solutions displayed: 0\n"
     ]
    }
   ],
   "source": [
    "results.write()"
   ]
  },
  {
   "cell_type": "code",
   "execution_count": 36,
   "metadata": {},
   "outputs": [
    {
     "name": "stdout",
     "output_type": "stream",
     "text": [
      "x : Size=2, Index=x_index\n",
      "    Key : Lower : Value            : Upper : Fixed : Stale : Domain\n",
      "      1 :     0 : 266.666666666667 :  None : False : False : NonNegativeReals\n",
      "      2 :     0 :           1000.0 :  None : False : False : NonNegativeReals\n"
     ]
    }
   ],
   "source": [
    "m2.x.display()"
   ]
  },
  {
   "cell_type": "code",
   "execution_count": null,
   "metadata": {},
   "outputs": [],
   "source": []
  }
 ],
 "metadata": {
  "kernelspec": {
   "display_name": "Python 3",
   "language": "python",
   "name": "python3"
  },
  "language_info": {
   "codemirror_mode": {
    "name": "ipython",
    "version": 3
   },
   "file_extension": ".py",
   "mimetype": "text/x-python",
   "name": "python",
   "nbconvert_exporter": "python",
   "pygments_lexer": "ipython3",
   "version": "3.7.6"
  }
 },
 "nbformat": 4,
 "nbformat_minor": 4
}

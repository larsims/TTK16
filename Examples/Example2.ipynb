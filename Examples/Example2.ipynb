{
 "cells": [
  {
   "cell_type": "markdown",
   "metadata": {},
   "source": [
    "# Example 2: MPC"
   ]
  },
  {
   "cell_type": "markdown",
   "metadata": {},
   "source": [
    "In this example, we will formulate a simple MPC controller using Pyomo."
   ]
  },
  {
   "cell_type": "markdown",
   "metadata": {},
   "source": [
    "We consider a simple (one-state, SISO) linear system with state $x_k$ and an input $u_k$.\n",
    "- The prediction horizon is $N = 4$, with system dynamics given by $a = 0.8104$ and $b = 0.2076$.\n",
    "- The cost function imposes a quadratic penalty on state and control signals, leading to an optimization problem:\n",
    "\\begin{align}\n",
    "    \\min \\quad & \\sum_{k=0}^{N-1} x_{k+1}^2 + u_k^2 \\\\\n",
    "    \\text{subject to:} \\quad & x_{k+1} = a x_k + b u_k, \\quad k = 0, \\ldots,N-1 \\\\\n",
    "    & x_0 = x_\\text{init}\n",
    "\\end{align}\n",
    "- The initial state (the present state measurement) is unknown when we specify the optimization problem. As a concrete example, we will solve for $x_\\text{init} = 0.4884$."
   ]
  },
  {
   "cell_type": "markdown",
   "metadata": {},
   "source": [
    "Since we don't know the initial state, we use the concept of an abstract model in Pyomo:"
   ]
  },
  {
   "cell_type": "code",
   "execution_count": 6,
   "metadata": {},
   "outputs": [],
   "source": [
    "from pyomo.environ import *\n",
    "\n",
    "# create model\n",
    "m = AbstractModel()"
   ]
  },
  {
   "cell_type": "markdown",
   "metadata": {},
   "source": [
    "For illustration purposes, we will assume that all parameters ($N$, $a$ and $b$ in addition to $x_\\text{init}$) are unknown:"
   ]
  },
  {
   "cell_type": "code",
   "execution_count": 7,
   "metadata": {},
   "outputs": [],
   "source": [
    "# Parameters\n",
    "m.a = Param() # by default, a real-valued parameter\n",
    "m.b = Param()\n",
    "m.N = Param(domain=NonNegativeIntegers) # N is a positive integer\n",
    "m.xinit = Param()"
   ]
  },
  {
   "cell_type": "markdown",
   "metadata": {},
   "source": [
    "Then, we define variables, states and inputs (vectors of length $N+1$ and $N$ -- we let the state vector be length $N+1$ since we want to include the initial state in this vector, for simplicity)."
   ]
  },
  {
   "cell_type": "code",
   "execution_count": 8,
   "metadata": {},
   "outputs": [],
   "source": [
    "m.K = RangeSet(1, m.N)\n",
    "m.Kp = RangeSet(1, m.N+1)\n",
    "m.x = Var(m.Kp) # one step longer since it will also contain x[0]\n",
    "m.u = Var(m.K)"
   ]
  },
  {
   "cell_type": "markdown",
   "metadata": {},
   "source": [
    "When defining the objective function, we cannot construct an expression for the objective since we don't know the value of N (or the other parameters). We must instead define a 'rule' (a function) for the objective:"
   ]
  },
  {
   "cell_type": "code",
   "execution_count": 9,
   "metadata": {},
   "outputs": [],
   "source": [
    "def objective_rule(m):\n",
    "    return sum(m.x[k+1]*m.x[k+1]+ m.u[k]*m.u[k] for k in m.K)\n",
    "\n",
    "m.obj = Objective( rule = objective_rule )"
   ]
  },
  {
   "cell_type": "markdown",
   "metadata": {},
   "source": [
    "The same for the constraints:"
   ]
  },
  {
   "cell_type": "code",
   "execution_count": 10,
   "metadata": {},
   "outputs": [],
   "source": [
    "def model_constraint(m,k):\n",
    "    return m.x[k+1] == m.a*m.x[k] + m.b*m.u[k]\n",
    "\n",
    "def initial_constraint(m):\n",
    "    return m.x[1] == m.xinit\n",
    "\n",
    "m.initconstraint = Constraint( rule = initial_constraint )\n",
    "m.modelconstraint = Constraint( m.K, rule = model_constraint )"
   ]
  },
  {
   "cell_type": "markdown",
   "metadata": {},
   "source": [
    "The above specifies the model (of the optimization problem), and we can proceed to solving it. Here, we outline two different methods. \n",
    "- The first method is within the Python script. The optimization model must then be instantiated with values assigned to parameters, before we can solve it as before (using now ipopt since the model is a QP).\n",
    "- The second method uses the Python script defining the model (the Python lines above) as input argument to a command line call to Pyomo. The other input arguments are a file defining the parameters, and specifying the solver."
   ]
  },
  {
   "cell_type": "markdown",
   "metadata": {},
   "source": [
    "Method 1 (within Python):"
   ]
  },
  {
   "cell_type": "code",
   "execution_count": 11,
   "metadata": {},
   "outputs": [
    {
     "name": "stdout",
     "output_type": "stream",
     "text": [
      "# ==========================================================\n",
      "# = Solver Results                                         =\n",
      "# ==========================================================\n",
      "# ----------------------------------------------------------\n",
      "#   Problem Information\n",
      "# ----------------------------------------------------------\n",
      "Problem: \n",
      "- Lower bound: -inf\n",
      "  Upper bound: inf\n",
      "  Number of objectives: 1\n",
      "  Number of constraints: 5\n",
      "  Number of variables: 9\n",
      "  Sense: unknown\n",
      "# ----------------------------------------------------------\n",
      "#   Solver Information\n",
      "# ----------------------------------------------------------\n",
      "Solver: \n",
      "- Status: ok\n",
      "  Message: Ipopt 3.11.1\\x3a Optimal Solution Found\n",
      "  Termination condition: optimal\n",
      "  Id: 0\n",
      "  Error rc: 0\n",
      "  Time: 0.08776593208312988\n",
      "# ----------------------------------------------------------\n",
      "#   Solution Information\n",
      "# ----------------------------------------------------------\n",
      "Solution: \n",
      "- number of solutions: 0\n",
      "  number of solutions displayed: 0\n"
     ]
    }
   ],
   "source": [
    "# Set parameters and instantiate model\n",
    "m.a = 0.8104\n",
    "m.b = 0.2076\n",
    "m.N = 4\n",
    "m.xinit = 0.4884\n",
    "\n",
    "m_instance = m.create_instance()\n",
    "\n",
    "# Solve QP using ipopt\n",
    "from pyomo.opt import SolverFactory\n",
    "opt = SolverFactory('ipopt')\n",
    "results = opt.solve(m_instance)\n",
    "\n",
    "results.write()"
   ]
  },
  {
   "cell_type": "markdown",
   "metadata": {},
   "source": [
    "In the second method, instead of specifying the values of the parameters in the Python code, we assume they are given in a file (with the AMPL format). This file looks as below (a line starting with hashtag is a comment, each line is ended by semicolon)."
   ]
  },
  {
   "cell_type": "code",
   "execution_count": 3,
   "metadata": {},
   "outputs": [
    {
     "name": "stdout",
     "output_type": "stream",
     "text": [
      "# Data for Example 2 (MPC) in AMPL format\n",
      "\n",
      "param a := 0.8104 ;\n",
      "param b := 0.2076 ;\n",
      "param N := 4 ;\n",
      "param xinit := 0.4884 ;\n"
     ]
    }
   ],
   "source": [
    "!type Example2.dat"
   ]
  },
  {
   "cell_type": "markdown",
   "metadata": {},
   "source": [
    "We can now invoke Pyomo from the command line:"
   ]
  },
  {
   "cell_type": "raw",
   "metadata": {},
   "source": [
    "pyomo solve Example2.py Example2.dat --solver=ipopt"
   ]
  },
  {
   "cell_type": "code",
   "execution_count": null,
   "metadata": {},
   "outputs": [],
   "source": []
  }
 ],
 "metadata": {
  "kernelspec": {
   "display_name": "Python 3",
   "language": "python",
   "name": "python3"
  },
  "language_info": {
   "codemirror_mode": {
    "name": "ipython",
    "version": 3
   },
   "file_extension": ".py",
   "mimetype": "text/x-python",
   "name": "python",
   "nbconvert_exporter": "python",
   "pygments_lexer": "ipython3",
   "version": "3.7.6"
  }
 },
 "nbformat": 4,
 "nbformat_minor": 4
}

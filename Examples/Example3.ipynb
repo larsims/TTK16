{
 "cells": [
  {
   "cell_type": "markdown",
   "metadata": {},
   "source": [
    "# Example 3"
   ]
  },
  {
   "cell_type": "markdown",
   "metadata": {},
   "source": [
    "The purpose of this example is to further illustrate implementation of large (LP) problems in Pyomo, and the separation of problem specification and problem data."
   ]
  },
  {
   "cell_type": "markdown",
   "metadata": {},
   "source": [
    "The problem to be solved is specified as:\n",
    "- Consider a factory that produces $N$ products in a serial pipeline.\n",
    "- For each product $n$, a profit $p_n$ is made on each unit sold, there is a weekly demand $d_n$ and a throughput of $r_n$ units per hour.\n",
    "- We wish to determine the weekly production $x_n$, for each product $n$, so as to maximize the total profit in sales, given\n",
    "that the factory has a total number of $T$ hours per week."
   ]
  },
  {
   "cell_type": "markdown",
   "metadata": {},
   "source": [
    "This is formulated as an LP problem in the following way:\n",
    "\\begin{align}\n",
    " \\max \\quad & \\sum_{n=1}^N p_n x_n \\\\\n",
    " \\text{subject to:} \\quad & \\sum_{n=1}^N \\frac{1}{r_n} x_n \\leq T \\\\\n",
    " & 0 \\leq x_n \\leq d_n, \\quad n = 1,\\ldots,N\n",
    "\\end{align}"
   ]
  },
  {
   "cell_type": "markdown",
   "metadata": {},
   "source": [
    "We have (potentially) a large number of products, so the parameters $p_n$, $r_n$ and $d_n$ for each product is specified in a data file. The data file is specified below. But first we implement the model:"
   ]
  },
  {
   "cell_type": "code",
   "execution_count": 3,
   "metadata": {},
   "outputs": [],
   "source": [
    "from pyomo.environ import *\n",
    "\n",
    "# create model\n",
    "m = AbstractModel()\n",
    "\n",
    "# Parameters\n",
    "m.T = Param() # Total number of hours available in a week\n",
    "\n",
    "# Set\n",
    "m.Products = Set()\n",
    "\n",
    "m.p = Param(m.Products)\n",
    "m.r = Param(m.Products)\n",
    "m.d = Param(m.Products)\n",
    "\n",
    "# Variables\n",
    "m.x = Var(m.Products,domain=NonNegativeReals)\n",
    "\n",
    "# Objective\n",
    "def objective_rule(m):\n",
    "    return summation(m.p, m.x)\n",
    "m.obj = Objective(rule = objective_rule, sense=maximize)\n",
    "\n",
    "# Constraints\n",
    "def available_working_hours(m):\n",
    "    return sum((1/m.r[n])*m.x[n] for n in m.Products) <= m.T\n",
    "m.availworkhours = Constraint(rule = available_working_hours)\n",
    "\n",
    "def upper_bound(m,n):\n",
    "    return m.x[n] <= m.d[n]\n",
    "m.upperbound = Constraint(m.Products,rule=upper_bound)"
   ]
  },
  {
   "cell_type": "markdown",
   "metadata": {},
   "source": [
    "Note how we are not specifying any data, only that the different products are in the set `Products`, and the data for each product are in the `p`, `r` and `d` parameters."
   ]
  },
  {
   "cell_type": "markdown",
   "metadata": {},
   "source": [
    "We use Pyomo's [Data Command Files](https://pyomo.readthedocs.io/en/stable/working_abstractmodels/data/datfiles.html) to load the data for the problem, and import it using Pyomo's [DataPortal](https://pyomo.readthedocs.io/en/stable/working_abstractmodels/data/dataportals.html) class. Note that the DataPortal class can import many other file formats. See below. (I would have liked to write `param T` instead of `table T`, this seems to be a bug in Pyomo?)"
   ]
  },
  {
   "cell_type": "code",
   "execution_count": 4,
   "metadata": {},
   "outputs": [
    {
     "name": "stdout",
     "output_type": "stream",
     "text": [
      "# Data for Example 3 (LP) \n",
      "\n",
      "table T := 40; # Number of working hours per week\n",
      "\n",
      "set Products := Product1 Product2 Product3 Product4; # The set of products\n",
      "\n",
      "# Data Matrix\n",
      "param : p r d :=\n",
      "Product1 1 40 1000\n",
      "Product2 1.5 30 900\n",
      "Product3 1 50 500\n",
      "Product4 1.5 20 800\n",
      ";\n"
     ]
    }
   ],
   "source": [
    "!type Example3.dat"
   ]
  },
  {
   "cell_type": "markdown",
   "metadata": {},
   "source": [
    "Next we can load the data into an instance of the problem, and solve:"
   ]
  },
  {
   "cell_type": "code",
   "execution_count": 5,
   "metadata": {},
   "outputs": [
    {
     "name": "stdout",
     "output_type": "stream",
     "text": [
      "x : Size=4, Index=Products\n",
      "    Key      : Lower : Value : Upper : Fixed : Stale : Domain\n",
      "    Product1 :     0 :   0.0 :  None : False : False : NonNegativeReals\n",
      "    Product2 :     0 : 900.0 :  None : False : False : NonNegativeReals\n",
      "    Product3 :     0 : 500.0 :  None : False : False : NonNegativeReals\n",
      "    Product4 :     0 :   0.0 :  None : False : False : NonNegativeReals\n"
     ]
    }
   ],
   "source": [
    "data = DataPortal()\n",
    "data.load(filename='Example3.dat')\n",
    "\n",
    "m_instance = m.create_instance(data)\n",
    "\n",
    "from pyomo.opt import SolverFactory\n",
    "opt = SolverFactory('glpk')\n",
    "results = opt.solve(m_instance)\n",
    "\n",
    "m_instance.x.display()"
   ]
  },
  {
   "cell_type": "markdown",
   "metadata": {},
   "source": [
    "Alternatively, we could have solved via the command line:"
   ]
  },
  {
   "cell_type": "raw",
   "metadata": {},
   "source": [
    "pyomo solve --solver=glpk example3.py example3.dat"
   ]
  },
  {
   "cell_type": "markdown",
   "metadata": {},
   "source": [
    "Exercise: Implement the dual of this problem, and check if the solution is the same. Use the same data file."
   ]
  },
  {
   "cell_type": "code",
   "execution_count": null,
   "metadata": {},
   "outputs": [],
   "source": []
  }
 ],
 "metadata": {
  "kernelspec": {
   "display_name": "Python 3",
   "language": "python",
   "name": "python3"
  },
  "language_info": {
   "codemirror_mode": {
    "name": "ipython",
    "version": 3
   },
   "file_extension": ".py",
   "mimetype": "text/x-python",
   "name": "python",
   "nbconvert_exporter": "python",
   "pygments_lexer": "ipython3",
   "version": "3.7.6"
  }
 },
 "nbformat": 4,
 "nbformat_minor": 4
}
